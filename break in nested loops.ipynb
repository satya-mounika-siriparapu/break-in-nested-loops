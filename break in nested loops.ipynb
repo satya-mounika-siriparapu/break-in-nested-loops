{
 "cells": [
  {
   "cell_type": "markdown",
   "id": "f8e3f170",
   "metadata": {},
   "source": [
    " Break :\n",
    " \n",
    "  1 ‘Break’ in Python is a loop control statement. \n",
    "  2 It is used to control the sequence of the loop.\n",
    "  3 Suppose you want to terminate a loop and skip to the next code after the loop; break will help you do that. \n",
    "  4 A typical scenario of using the Break in Python is when an external condition triggers the loop’s termination. \n",
    "  \n",
    "  The syntax is as follows:\n",
    "\n",
    "   break;\n",
    "\n",
    "  It is used after the loop statements.\n",
    "\n",
    "Nested Loops In Python :\n",
    "  1.When working with nested loops, the break statement can be used to break out of both the inner and outer loops.\n",
    "  2.If a break statement is encountered in the inner loop, only the inner loop will be exited and the outer loop will continue    to iterate.\n"
   ]
  },
  {
   "cell_type": "code",
   "execution_count": 15,
   "id": "2738e011",
   "metadata": {},
   "outputs": [
    {
     "name": "stdout",
     "output_type": "stream",
     "text": [
      "4 12\n",
      "4 14\n",
      "4 16\n",
      "4 18\n",
      "3 12\n",
      "3 14\n",
      "3 16\n",
      "3 18\n",
      "7 12\n",
      "break\n",
      "5 12\n",
      "5 14\n",
      "5 16\n",
      "5 18\n"
     ]
    }
   ],
   "source": [
    "l1=[4,3,7,5]\n",
    "l2=[12,14,16,18]\n",
    "\n",
    "for i in l1:\n",
    "    for j in l2:\n",
    "        print(i,j)\n",
    "        if i==7 and j==12:\n",
    "            print('break')\n",
    "            break\n",
    "                \n",
    "                \n",
    "               "
   ]
  },
  {
   "cell_type": "code",
   "execution_count": null,
   "id": "88f8c0fd",
   "metadata": {},
   "outputs": [],
   "source": []
  }
 ],
 "metadata": {
  "kernelspec": {
   "display_name": "Python 3 (ipykernel)",
   "language": "python",
   "name": "python3"
  },
  "language_info": {
   "codemirror_mode": {
    "name": "ipython",
    "version": 3
   },
   "file_extension": ".py",
   "mimetype": "text/x-python",
   "name": "python",
   "nbconvert_exporter": "python",
   "pygments_lexer": "ipython3",
   "version": "3.10.9"
  }
 },
 "nbformat": 4,
 "nbformat_minor": 5
}
